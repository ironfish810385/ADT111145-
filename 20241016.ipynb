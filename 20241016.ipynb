{
 "cells": [
  {
   "cell_type": "code",
   "execution_count": null,
   "metadata": {},
   "outputs": [],
   "source": [
    "n=0\n",
    "keyword = \"數位\"\n",
    "for row in htmllist:\n",
    "    if keyword in row: n+=1\n",
    "print(\"找到{}次!\".format(n))"
   ]
  }
 ],
 "metadata": {
  "language_info": {
   "name": "python"
  }
 },
 "nbformat": 4,
 "nbformat_minor": 2
}
